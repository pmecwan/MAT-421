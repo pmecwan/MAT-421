{
  "nbformat": 4,
  "nbformat_minor": 0,
  "metadata": {
    "colab": {
      "provenance": [],
      "authorship_tag": "ABX9TyNgMwiuvrJSTTo66LvewNqY",
      "include_colab_link": true
    },
    "kernelspec": {
      "name": "python3",
      "display_name": "Python 3"
    },
    "language_info": {
      "name": "python"
    }
  },
  "cells": [
    {
      "cell_type": "markdown",
      "metadata": {
        "id": "view-in-github",
        "colab_type": "text"
      },
      "source": [
        "<a href=\"https://colab.research.google.com/github/pmecwan/MAT-421/blob/main/Module_D.ipynb\" target=\"_parent\"><img src=\"https://colab.research.google.com/assets/colab-badge.svg\" alt=\"Open In Colab\"/></a>"
      ]
    },
    {
      "cell_type": "markdown",
      "source": [
        "1.1 Introduction"
      ],
      "metadata": {
        "id": "1U70G-CKA8j0"
      }
    },
    {
      "cell_type": "markdown",
      "source": [
        "Linear algebra is a crucial mathematical field widely used in data science and machine learning, providing the foundation for understanding algorithms like linear regression and principal component analysis."
      ],
      "metadata": {
        "id": "qRUHKgI6Exso"
      }
    },
    {
      "cell_type": "code",
      "source": [
        "import numpy as np\n",
        "\n",
        "vector_one = np.array([0,2,2])\n",
        "vector_two = np.array([1,0,1])\n",
        "\n",
        "x = vector_one*2\n",
        "y = vector_two*1\n",
        "\n",
        "z = np.array([1,4,5])\n",
        "\n",
        "result = x + y\n",
        "print(result)\n",
        "print(result == z)"
      ],
      "metadata": {
        "colab": {
          "base_uri": "https://localhost:8080/"
        },
        "id": "CvLBWaQfE8Id",
        "outputId": "4676d3f1-fcbf-4c90-8f03-c2cc93154f6d"
      },
      "execution_count": 1,
      "outputs": [
        {
          "output_type": "stream",
          "name": "stdout",
          "text": [
            "[1 4 5]\n",
            "[ True  True  True]\n"
          ]
        }
      ]
    },
    {
      "cell_type": "code",
      "source": [
        "import numpy as np\n",
        "\n",
        "P = np.array([[9, 6], [6, 11], [2, 0]])\n",
        "Q = np.array([[1, 7, 6, 1], [-1, 8, -3, 5]])\n",
        "\n",
        "print(np.dot(P, Q))\n"
      ],
      "metadata": {
        "colab": {
          "base_uri": "https://localhost:8080/"
        },
        "id": "Ba70WmL5FCbs",
        "outputId": "2e88a84d-1650-4de4-bd2d-7f2f69a37b40"
      },
      "execution_count": 2,
      "outputs": [
        {
          "output_type": "stream",
          "name": "stdout",
          "text": [
            "[[  3 111  36  39]\n",
            " [ -5 130   3  61]\n",
            " [  2  14  12   2]]\n"
          ]
        }
      ]
    },
    {
      "cell_type": "markdown",
      "source": [
        "1.2 Elements of Linear Algebra"
      ],
      "metadata": {
        "id": "qfKjc_URA8eU"
      }
    },
    {
      "cell_type": "markdown",
      "source": [
        "1.2.1 Linear Spaces"
      ],
      "metadata": {
        "id": "rwGBmRgSDy8B"
      }
    },
    {
      "cell_type": "markdown",
      "source": [
        "A linear space is formed through linear combinations, where new vectors are created by scaling and summing vectors in a subset, and a linear subspace is a subset closed under vector addition and scalar multiplication, with the span of vectors."
      ],
      "metadata": {
        "id": "6IcJCj-dV34F"
      }
    },
    {
      "cell_type": "markdown",
      "source": [
        "1.2.2 Orthogonality"
      ],
      "metadata": {
        "id": "Qytqg_u4D0g7"
      }
    },
    {
      "cell_type": "markdown",
      "source": [
        "Orthogonal bases in linear algebra simplify mathematical representations and provide insights into problems by ensuring pairwise orthogonality and unit norms, where the inner product and norm define orthonormality. For a subspace with an orthonormal basis, enabling optimal vector approximations and verification of orthonormality."
      ],
      "metadata": {
        "id": "h_cH3RbxP1VT"
      }
    },
    {
      "cell_type": "code",
      "source": [
        "from numpy import arccos, dot\n",
        "from numpy.linalg import norm\n",
        "\n",
        "v = np.array([[10, 9, 3]])\n",
        "w = np.array([[2, 5, 12]])\n",
        "theta = arccos(dot(v, w.T)/(norm(v)*norm(w)))\n",
        "print(theta)"
      ],
      "metadata": {
        "colab": {
          "base_uri": "https://localhost:8080/"
        },
        "id": "_hjSLca_M_iI",
        "outputId": "b21a3aa5-cec3-4ce4-86e2-8e5c644afb54"
      },
      "execution_count": 7,
      "outputs": [
        {
          "output_type": "stream",
          "name": "stdout",
          "text": [
            "[[0.97992471]]\n"
          ]
        }
      ]
    },
    {
      "cell_type": "markdown",
      "source": [
        "1.2.4 Eigenvalues and Eigenvectors"
      ],
      "metadata": {
        "id": "EYO7LTT6ESBq"
      }
    },
    {
      "cell_type": "markdown",
      "source": [
        "The equation defines an eigenvalue of a matrix. An eigenvalue represents the scaling factor by which the eigenvector is stretched or compressed during the transformation."
      ],
      "metadata": {
        "id": "mLZyl2UnNrVl"
      }
    },
    {
      "cell_type": "code",
      "source": [
        "import numpy as np\n",
        "from numpy.linalg import eig\n",
        "\n",
        "a = np.array([[2, 2, 4], [1, 3, 5], [9, 7, 7]])\n",
        "w,v=eig(a)\n",
        "print('E-value:', w)\n",
        "print('E-vector', v)"
      ],
      "metadata": {
        "colab": {
          "base_uri": "https://localhost:8080/"
        },
        "id": "YyZgMXv-NA14",
        "outputId": "15e9cd9e-b0a6-42ca-e119-2dbe09ad4d09"
      },
      "execution_count": 3,
      "outputs": [
        {
          "output_type": "stream",
          "name": "stdout",
          "text": [
            "E-value: [14.10750914  0.7843679  -2.89187704]\n",
            "E-vector [[-0.3464717  -0.46079863 -0.37313646]\n",
            " [-0.41081055  0.84187903 -0.56267831]\n",
            " [-0.84332204 -0.28089912  0.73767357]]\n"
          ]
        }
      ]
    },
    {
      "cell_type": "markdown",
      "source": [
        "1.3 Linear Regression"
      ],
      "metadata": {
        "id": "j5E5PZHWD7rV"
      }
    },
    {
      "cell_type": "markdown",
      "source": [
        "Linear regression models, which depend linearly on their unknown parameters, are often easier to fit than non-linear models, and the linear least squares problem can be efficiently solved using QR decomposition, where the Gram-Schmidt process generates an orthonormal basis expressed as \\( A = QR \\)."
      ],
      "metadata": {
        "id": "jQmV9pJoNkE9"
      }
    },
    {
      "cell_type": "code",
      "source": [
        "import numpy as np\n",
        "import matplotlib.pyplot as plt\n",
        "\n",
        "x = np.linspace(0, 20, 250 )\n",
        "y = 1 + 0.5*x*x + np.random.random(len(x))*40\n",
        "A = np.vstack([x*x,x, np.ones(len(x))]).T\n",
        "y = y[:, np.newaxis]\n",
        "alpha = np.dot((np.dot(np.linalg.inv(np.dot(A.T,A)),A.T)),y)\n",
        "plt.figure(figsize = (10,8))\n",
        "plt.plot(x, y, 'b.')\n",
        "plt.plot(x, alpha[0]*x*x+alpha[1]*x + alpha[2], 'r')\n",
        "plt.show()"
      ],
      "metadata": {
        "colab": {
          "base_uri": "https://localhost:8080/",
          "height": 676
        },
        "id": "MC2MrZioBEdJ",
        "outputId": "f6a4ee03-b469-4390-915d-dbdf373dc6fc"
      },
      "execution_count": 6,
      "outputs": [
        {
          "output_type": "display_data",
          "data": {
            "text/plain": [
              "<Figure size 1000x800 with 1 Axes>"
            ],
            "image/png": "[encoded data removed]"
          },
          "metadata": {}
        }
      ]
    }
  ]
}