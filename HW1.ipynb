{
  "nbformat": 4,
  "nbformat_minor": 0,
  "metadata": {
    "colab": {
      "provenance": [],
      "authorship_tag": "ABX9TyOvWHpmNp9tMoCrdcP9Fgxc",
      "include_colab_link": true
    },
    "kernelspec": {
      "name": "python3",
      "display_name": "Python 3"
    },
    "language_info": {
      "name": "python"
    }
  },
  "cells": [
    {
      "cell_type": "markdown",
      "metadata": {
        "id": "view-in-github",
        "colab_type": "text"
      },
      "source": [
        "<a href=\"https://colab.research.google.com/github/pmecwan/MAT-421/blob/main/HW1.ipynb\" target=\"_parent\"><img src=\"https://colab.research.google.com/assets/colab-badge.svg\" alt=\"Open In Colab\"/></a>"
      ]
    },
    {
      "cell_type": "code",
      "execution_count": 29,
      "metadata": {
        "id": "PhMF6JGaEZfF"
      },
      "outputs": [],
      "source": [
        "import numpy as np\n",
        "import matplotlib.pyplot as plt"
      ]
    },
    {
      "cell_type": "markdown",
      "source": [
        "Base-N and Binary"
      ],
      "metadata": {
        "id": "H993nRfqrqdp"
      }
    },
    {
      "cell_type": "markdown",
      "source": [
        "We are using base 10 0-9 to use as powers of 10 and 16."
      ],
      "metadata": {
        "id": "PsK9l5nCLzOB"
      }
    },
    {
      "cell_type": "markdown",
      "source": [],
      "metadata": {
        "id": "Vmo5V6JtL6S4"
      }
    },
    {
      "cell_type": "code",
      "source": [
        "\n",
        "# 77 (Base 10)\n",
        "77 == (7*10**1) + (7*10**0)\n"
      ],
      "metadata": {
        "colab": {
          "base_uri": "https://localhost:8080/"
        },
        "id": "iuB8GJ0Ss-rR",
        "outputId": "2449d65f-2620-453d-e7fd-00c35b0be1af"
      },
      "execution_count": 28,
      "outputs": [
        {
          "output_type": "execute_result",
          "data": {
            "text/plain": [
              "True"
            ]
          },
          "metadata": {},
          "execution_count": 28
        }
      ]
    },
    {
      "cell_type": "markdown",
      "source": [
        "Used 77 as shown in example and quick understanding."
      ],
      "metadata": {
        "id": "9IHf75N9L8lR"
      }
    },
    {
      "cell_type": "code",
      "source": [
        "x=77 #binary\n",
        "print(x,'=',bin(x))"
      ],
      "metadata": {
        "colab": {
          "base_uri": "https://localhost:8080/"
        },
        "id": "beyDDQ1ArpEF",
        "outputId": "ac409cf9-ce6a-4e41-c966-21b702c50313"
      },
      "execution_count": 27,
      "outputs": [
        {
          "output_type": "stream",
          "name": "stdout",
          "text": [
            "77 = 0b1001101\n"
          ]
        }
      ]
    },
    {
      "cell_type": "markdown",
      "source": [
        "Print in binary"
      ],
      "metadata": {
        "id": "8G_JTMHRMF1Z"
      }
    },
    {
      "cell_type": "code",
      "source": [
        "# 16 (Base 16)\n",
        "22 == 1*16**1 + 6*16**0"
      ],
      "metadata": {
        "colab": {
          "base_uri": "https://localhost:8080/"
        },
        "id": "EQ2mflp3tBXI",
        "outputId": "fe23646c-cae6-40e4-92ba-d8090e88f2fd"
      },
      "execution_count": 26,
      "outputs": [
        {
          "output_type": "execute_result",
          "data": {
            "text/plain": [
              "True"
            ]
          },
          "metadata": {},
          "execution_count": 26
        }
      ]
    },
    {
      "cell_type": "markdown",
      "source": [
        "Floating Point Numbers\n",
        "\n"
      ],
      "metadata": {
        "id": "BIxXRGonrvKc"
      }
    },
    {
      "cell_type": "code",
      "source": [
        "import sys"
      ],
      "metadata": {
        "id": "ksXMN1WJrzUE"
      },
      "execution_count": 48,
      "outputs": []
    },
    {
      "cell_type": "code",
      "source": [
        "np.spacing(1e10) # 1*10**9"
      ],
      "metadata": {
        "colab": {
          "base_uri": "https://localhost:8080/"
        },
        "id": "l8YIsyXsr2_e",
        "outputId": "a2ed1fa0-8690-463f-a4bf-6f3b87eacdf8"
      },
      "execution_count": 49,
      "outputs": [
        {
          "output_type": "execute_result",
          "data": {
            "text/plain": [
              "1.9073486328125e-06"
            ]
          },
          "metadata": {},
          "execution_count": 49
        }
      ]
    },
    {
      "cell_type": "code",
      "source": [
        "1e10 == (1e10 + np.spacing(1e9)/3) #Add less than half of gap\n",
        "\n"
      ],
      "metadata": {
        "colab": {
          "base_uri": "https://localhost:8080/"
        },
        "id": "5SBiBkjkr4ic",
        "outputId": "0cfb8625-4382-4c90-abf5-8a22cc0a687a"
      },
      "execution_count": 50,
      "outputs": [
        {
          "output_type": "execute_result",
          "data": {
            "text/plain": [
              "True"
            ]
          },
          "metadata": {},
          "execution_count": 50
        }
      ]
    },
    {
      "cell_type": "code",
      "source": [
        "largest"
      ],
      "metadata": {
        "colab": {
          "base_uri": "https://localhost:8080/"
        },
        "id": "6IFSVQFfMbut",
        "outputId": "9218265a-27b5-4c98-a0b5-0e2024b99dcc"
      },
      "execution_count": 55,
      "outputs": [
        {
          "output_type": "execute_result",
          "data": {
            "text/plain": [
              "1.7976931348623157e+308"
            ]
          },
          "metadata": {},
          "execution_count": 55
        }
      ]
    },
    {
      "cell_type": "code",
      "source": [
        "sys.float_info.max"
      ],
      "metadata": {
        "colab": {
          "base_uri": "https://localhost:8080/"
        },
        "id": "KTmzAtEir7tE",
        "outputId": "6a2bf4c4-6091-45be-e302-a0105e37ccdb"
      },
      "execution_count": 52,
      "outputs": [
        {
          "output_type": "execute_result",
          "data": {
            "text/plain": [
              "1.7976931348623157e+308"
            ]
          },
          "metadata": {},
          "execution_count": 52
        }
      ]
    },
    {
      "cell_type": "code",
      "source": [
        "smallest"
      ],
      "metadata": {
        "colab": {
          "base_uri": "https://localhost:8080/"
        },
        "id": "whAnDMbmr8xA",
        "outputId": "e4298859-b664-4a25-8e17-92ccf4eb2d49"
      },
      "execution_count": 56,
      "outputs": [
        {
          "output_type": "execute_result",
          "data": {
            "text/plain": [
              "2.2250738585072014e-308"
            ]
          },
          "metadata": {},
          "execution_count": 56
        }
      ]
    },
    {
      "cell_type": "markdown",
      "source": [
        "Round-off Errors\n",
        "\n"
      ],
      "metadata": {
        "id": "5STaZs61rvwO"
      }
    },
    {
      "cell_type": "code",
      "source": [
        "7.8 - 7.678 == 0.122"
      ],
      "metadata": {
        "colab": {
          "base_uri": "https://localhost:8080/"
        },
        "id": "-kbJdJipsAA0",
        "outputId": "0732e626-f906-4852-97b5-e872ee36352d"
      },
      "execution_count": 57,
      "outputs": [
        {
          "output_type": "execute_result",
          "data": {
            "text/plain": [
              "False"
            ]
          },
          "metadata": {},
          "execution_count": 57
        }
      ]
    },
    {
      "cell_type": "code",
      "source": [
        "print(4.9 - 4.745)\n",
        "4.9 - 4.875 == 0.15\n"
      ],
      "metadata": {
        "colab": {
          "base_uri": "https://localhost:8080/"
        },
        "id": "V44yvtvSzJuO",
        "outputId": "c4b8d0d7-88f7-4dad-a4cf-e24e45b51bcb"
      },
      "execution_count": 34,
      "outputs": [
        {
          "output_type": "stream",
          "name": "stdout",
          "text": [
            "0.15500000000000025\n"
          ]
        },
        {
          "output_type": "execute_result",
          "data": {
            "text/plain": [
              "False"
            ]
          },
          "metadata": {},
          "execution_count": 34
        }
      ]
    },
    {
      "cell_type": "code",
      "source": [
        "4.9 - 4.875\n",
        "0.15500000000000025 #the real answer"
      ],
      "metadata": {
        "colab": {
          "base_uri": "https://localhost:8080/"
        },
        "id": "LbztT8ZAsCFY",
        "outputId": "ae4df564-7bd8-4ea2-f63b-34ef1060fd5d"
      },
      "execution_count": 58,
      "outputs": [
        {
          "output_type": "execute_result",
          "data": {
            "text/plain": [
              "0.15500000000000025"
            ]
          },
          "metadata": {},
          "execution_count": 58
        }
      ]
    },
    {
      "cell_type": "code",
      "source": [
        "def add_subtract(i):\n",
        " result = 1\n",
        "\n",
        " for i in range(i):\n",
        "  result += 1/3\n",
        " for i in range(i):\n",
        "  result -= 1/3\n",
        " return result\n",
        "\n",
        "# for 100 iterations\n",
        "add_subtract(100)\n"
      ],
      "metadata": {
        "colab": {
          "base_uri": "https://localhost:8080/"
        },
        "id": "dntP8Tk3sDDF",
        "outputId": "7edf94c8-2834-4e22-ba2e-fc4b23b825e7"
      },
      "execution_count": 59,
      "outputs": [
        {
          "output_type": "execute_result",
          "data": {
            "text/plain": [
              "1.3333333333333335"
            ]
          },
          "metadata": {},
          "execution_count": 59
        }
      ]
    },
    {
      "cell_type": "code",
      "source": [
        "#for 1000\n",
        "add_subtract(1000)\n"
      ],
      "metadata": {
        "colab": {
          "base_uri": "https://localhost:8080/"
        },
        "id": "d5Gs4hNGsE52",
        "outputId": "8075de39-b96b-4bf0-8cc5-441bb1b32474"
      },
      "execution_count": 60,
      "outputs": [
        {
          "output_type": "execute_result",
          "data": {
            "text/plain": [
              "1.3333333333333397"
            ]
          },
          "metadata": {},
          "execution_count": 60
        }
      ]
    },
    {
      "cell_type": "code",
      "source": [
        "#for 1000000\n",
        "add_subtract(100000)"
      ],
      "metadata": {
        "colab": {
          "base_uri": "https://localhost:8080/"
        },
        "id": "vnJJjbSDsGBu",
        "outputId": "6fa4468a-938b-4a10-ce83-b54842b398f2"
      },
      "execution_count": 61,
      "outputs": [
        {
          "output_type": "execute_result",
          "data": {
            "text/plain": [
              "1.3333333333352546"
            ]
          },
          "metadata": {},
          "execution_count": 61
        }
      ]
    }
  ]
}