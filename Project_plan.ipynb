{
  "nbformat": 4,
  "nbformat_minor": 0,
  "metadata": {
    "colab": {
      "provenance": [],
      "authorship_tag": "ABX9TyNtQjyAOIL4FaXNlIbGUqZG",
      "include_colab_link": true
    },
    "kernelspec": {
      "name": "python3",
      "display_name": "Python 3"
    },
    "language_info": {
      "name": "python"
    }
  },
  "cells": [
    {
      "cell_type": "markdown",
      "metadata": {
        "id": "view-in-github",
        "colab_type": "text"
      },
      "source": [
        "<a href=\"https://colab.research.google.com/github/pmecwan/MAT-421/blob/main/Project_plan.ipynb\" target=\"_parent\"><img src=\"https://colab.research.google.com/assets/colab-badge.svg\" alt=\"Open In Colab\"/></a>"
      ]
    },
    {
      "cell_type": "markdown",
      "source": [
        "1. Introduction to the problem"
      ],
      "metadata": {
        "id": "zEQylTCdWjkF"
      }
    },
    {
      "cell_type": "markdown",
      "source": [],
      "metadata": {
        "id": "S3m9ozeVWvnb"
      }
    },
    {
      "cell_type": "markdown",
      "source": [
        "2. Related work"
      ],
      "metadata": {
        "id": "85X0btG1Wlrz"
      }
    },
    {
      "cell_type": "markdown",
      "source": [],
      "metadata": {
        "id": "4vC20NkcWwFX"
      }
    },
    {
      "cell_type": "markdown",
      "source": [
        "3. Proposed methodology/ models"
      ],
      "metadata": {
        "id": "lwG-0MdDWmVa"
      }
    },
    {
      "cell_type": "markdown",
      "source": [],
      "metadata": {
        "id": "DQCiLDKrWwcX"
      }
    },
    {
      "cell_type": "markdown",
      "source": [
        "4. Experiment setups"
      ],
      "metadata": {
        "id": "8NWV-xHfWmrb"
      }
    },
    {
      "cell_type": "markdown",
      "source": [],
      "metadata": {
        "id": "nve5qatRWwr3"
      }
    },
    {
      "cell_type": "markdown",
      "source": [
        "5. Expected results"
      ],
      "metadata": {
        "id": "KFPNbOs7Wm8c"
      }
    },
    {
      "cell_type": "markdown",
      "source": [],
      "metadata": {
        "id": "YR_vxqc1Ww76"
      }
    }
  ]
}