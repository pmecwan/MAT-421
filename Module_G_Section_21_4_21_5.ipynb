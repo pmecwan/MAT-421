{
  "nbformat": 4,
  "nbformat_minor": 0,
  "metadata": {
    "colab": {
      "provenance": [],
      "authorship_tag": "ABX9TyOmbqWRBWEMrGC9ODwlp4rr",
      "include_colab_link": true
    },
    "kernelspec": {
      "name": "python3",
      "display_name": "Python 3"
    },
    "language_info": {
      "name": "python"
    }
  },
  "cells": [
    {
      "cell_type": "markdown",
      "metadata": {
        "id": "view-in-github",
        "colab_type": "text"
      },
      "source": [
        "<a href=\"https://colab.research.google.com/github/pmecwan/MAT-421/blob/main/Module_G_Section_21_4_21_5.ipynb\" target=\"_parent\"><img src=\"https://colab.research.google.com/assets/colab-badge.svg\" alt=\"Open In Colab\"/></a>"
      ]
    },
    {
      "cell_type": "markdown",
      "source": [
        "21.4 Simpson's Rule"
      ],
      "metadata": {
        "id": "iWhR9imzUt7r"
      }
    },
    {
      "cell_type": "markdown",
      "source": [
        "Simpson's Rule is a numerical integration technique used to approximate the definite integral of a function by approximating the area under a curve using parabolic arcs instead of straight lines (as in the trapezoidal rule). The rule works for smooth functions and provides a more accurate approximation than methods like the midpoint or trapezoidal rules for the same number of intervals. Given a function f(x) defined on the interval [a,b]. Simpson's Rule approximates the integral f(x)dx by dividing the interval into an even number of subintervals (let this number be n, where n is even). The rule also fits a quadratic polynomial to the function values at the endpoints and midpoint of each pair of subintervals and integrates these quadratics to approximate the area."
      ],
      "metadata": {
        "id": "hba_sIMIVCSE"
      }
    },
    {
      "cell_type": "code",
      "source": [
        "def f(x):\n",
        "    return 1/(1 + x**2)\n",
        "\n",
        "def simpson13(x0,xn,n):\n",
        "    h = (xn - x0) / n\n",
        "    integration = f(x0) + f(xn)\n",
        "\n",
        "    for i in range(1,n):\n",
        "        k = x0 + i*h\n",
        "\n",
        "        if i%2 == 0:\n",
        "            integration = integration + 2 * f(k)\n",
        "        else:\n",
        "            integration = integration + 4 * f(k)\n",
        "\n",
        "    integration = integration * h/3\n",
        "\n",
        "    return integration\n",
        "\n",
        "lower_limit = float(input(\"Enter lower limit of integration: \"))\n",
        "upper_limit = float(input(\"Enter upper limit of integration: \"))\n",
        "sub_interval = int(input(\"Enter number of sub intervals: \"))\n",
        "\n",
        "result = simpson13(lower_limit, upper_limit, sub_interval)\n",
        "print(\"Integration result by Simpson's 1/3 method is: %0.6f\" % (result) )"
      ],
      "metadata": {
        "colab": {
          "base_uri": "https://localhost:8080/"
        },
        "id": "scWx3DuyVBnE",
        "outputId": "bbbc7a7f-862d-4c1e-ebf3-b7c240b8842c"
      },
      "execution_count": 2,
      "outputs": [
        {
          "output_type": "stream",
          "name": "stdout",
          "text": [
            "Enter lower limit of integration: 1\n",
            "Enter upper limit of integration: 2\n",
            "Enter number of sub intervals: 3\n",
            "Integration result by Simpson's 1/3 method is: 0.296601\n"
          ]
        }
      ]
    },
    {
      "cell_type": "markdown",
      "source": [
        "Here we are using Simpson's Rule to calculate the result and the error."
      ],
      "metadata": {
        "id": "ek7DQgXuQLUu"
      }
    },
    {
      "cell_type": "code",
      "source": [
        "import numpy as np\n",
        "\n",
        "a = 0\n",
        "b = 2\n",
        "n = 11\n",
        "h = (b - a) / (n - 1)\n",
        "x = np.linspace(a, b, n)\n",
        "f = x**3+7\n",
        "\n",
        "I_simp = (h/3) * (f[0] + 2*sum(f[:n-2:2]) \\\n",
        "            + 4*sum(f[1:n-1:2]) + f[n-1])\n",
        "err_simp = 18 - I_simp\n",
        "\n",
        "print(I_simp)\n",
        "print(err_simp)"
      ],
      "metadata": {
        "colab": {
          "base_uri": "https://localhost:8080/"
        },
        "id": "sGSeK4mnGcc0",
        "outputId": "f3d65cdf-598c-49e3-e926-16e583576a95"
      },
      "execution_count": 3,
      "outputs": [
        {
          "output_type": "stream",
          "name": "stdout",
          "text": [
            "18.933333333333334\n",
            "-0.9333333333333336\n"
          ]
        }
      ]
    },
    {
      "cell_type": "markdown",
      "source": [
        "21.5 Computing Integrals in Python"
      ],
      "metadata": {
        "id": "PQAJ0jp9Ut5E"
      }
    },
    {
      "cell_type": "markdown",
      "source": [
        "We are approximating the integral 0 to pi cosx"
      ],
      "metadata": {
        "id": "p5Tw9wWMVEU_"
      }
    },
    {
      "cell_type": "code",
      "source": [
        "from scipy.integrate import quad\n",
        "\n",
        "I_quad, est_err_quad = quad(np.cos, 0, np.pi)\n",
        "err_quad = 2 - I_quad\n",
        "\n",
        "print(I_quad)\n",
        "print(est_err_quad, err_quad)"
      ],
      "metadata": {
        "colab": {
          "base_uri": "https://localhost:8080/"
        },
        "id": "V_1Iwd8SPXxl",
        "outputId": "4dce7857-d857-40fb-cb87-23a1df5dcdc0"
      },
      "execution_count": 17,
      "outputs": [
        {
          "output_type": "stream",
          "name": "stdout",
          "text": [
            "4.9225526349740854e-17\n",
            "2.2102239425853306e-14 2.0\n"
          ]
        }
      ]
    },
    {
      "cell_type": "markdown",
      "source": [
        "Here we are calculating the integral results and error for a quadrilateral shape by importing quad."
      ],
      "metadata": {
        "id": "vPJkxFc1P_ck"
      }
    },
    {
      "cell_type": "code",
      "source": [
        "from scipy.integrate import quad\n",
        "\n",
        "I_quad, est_err_quad = quad(np.sin, 0, 2* np.pi)\n",
        "err_quad = 0 - I_quad\n",
        "\n",
        "print(\"Quad Integral Results: \" + str(I_quad))\n",
        "print(\"Error: \" + str(est_err_quad) + \" \" + str(err_quad))\n"
      ],
      "metadata": {
        "colab": {
          "base_uri": "https://localhost:8080/"
        },
        "id": "NC1MVLN8P5N6",
        "outputId": "e70cbbdb-6a3b-449f-80cd-bbccbaced04b"
      },
      "execution_count": 16,
      "outputs": [
        {
          "output_type": "stream",
          "name": "stdout",
          "text": [
            "Quad Integral Results: 2.221501482512777e-16\n",
            "Error: 4.3998892617845996e-14 -2.221501482512777e-16\n"
          ]
        }
      ]
    }
  ]
}