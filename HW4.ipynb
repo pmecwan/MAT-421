{
  "nbformat": 4,
  "nbformat_minor": 0,
  "metadata": {
    "colab": {
      "provenance": [],
      "authorship_tag": "ABX9TyOEV6X6vJWz35j9gRChPDIO",
      "include_colab_link": true
    },
    "kernelspec": {
      "name": "python3",
      "display_name": "Python 3"
    },
    "language_info": {
      "name": "python"
    }
  },
  "cells": [
    {
      "cell_type": "markdown",
      "metadata": {
        "id": "view-in-github",
        "colab_type": "text"
      },
      "source": [
        "<a href=\"https://colab.research.google.com/github/pmecwan/MAT-421/blob/main/HW4.ipynb\" target=\"_parent\"><img src=\"https://colab.research.google.com/assets/colab-badge.svg\" alt=\"Open In Colab\"/></a>"
      ]
    },
    {
      "cell_type": "markdown",
      "source": [
        "Root Finding Problem Statement\n",
        "\n"
      ],
      "metadata": {
        "id": "r-Wp828xlrMR"
      }
    },
    {
      "cell_type": "markdown",
      "source": [
        "Root finding involves determining the value of x for which f(x) = 0, representing where the function intersects the x-axis. For functions where exact solutions are difficult or impossible to derive analytically, numerical approximation methods become essential to estimate the root with precision."
      ],
      "metadata": {
        "id": "VqdhGJ7uveF4"
      }
    },
    {
      "cell_type": "code",
      "source": [
        "import numpy as np\n",
        "from scipy import optimize\n",
        "\n",
        "f = lambda x: np.cos(x) - x\n",
        "r = optimize.fsolve(f, -1)\n",
        "print(\"r =\", r)\n",
        "\n",
        "result = f(r)\n",
        "print(\"result =\", result)"
      ],
      "metadata": {
        "colab": {
          "base_uri": "https://localhost:8080/"
        },
        "id": "LF0GKIUhl1Kk",
        "outputId": "b0303ed7-3c7d-40c5-ca7d-49551daef0f6"
      },
      "execution_count": 3,
      "outputs": [
        {
          "output_type": "stream",
          "name": "stdout",
          "text": [
            "r = [0.73908513]\n",
            "result = [0.]\n"
          ]
        }
      ]
    },
    {
      "cell_type": "code",
      "source": [
        "import numpy as np\n",
        "from scipy import optimize\n",
        "\n",
        "f = lambda x: np.sin(x) - x\n",
        "r = optimize.fsolve(f, 2)\n",
        "print(\"r =\", r)\n",
        "\n",
        "result = f(r)\n",
        "print(\"result =\", result)"
      ],
      "metadata": {
        "colab": {
          "base_uri": "https://localhost:8080/"
        },
        "id": "HUTToMpPLCB2",
        "outputId": "ee6dc075-6f41-4ee9-f3a8-aa5f99c851c5"
      },
      "execution_count": 4,
      "outputs": [
        {
          "output_type": "stream",
          "name": "stdout",
          "text": [
            "r = [2.07167136e-08]\n",
            "result = [0.]\n"
          ]
        }
      ]
    },
    {
      "cell_type": "markdown",
      "source": [
        "Tolerance"
      ],
      "metadata": {
        "id": "frnjO-HYlrGU"
      }
    },
    {
      "cell_type": "markdown",
      "source": [
        "Error represents the difference between a computed value and the expected or true value, whereas tolerance specifies the maximum allowable error for a given application. A solution is considered valid only when its error is smaller than the set tolerance. In root-finding, an approximation that produces a value sufficiently close to zero can be accepted as a valid root. It’s crucial to carefully define tolerances for each specific application to ensure results are meaningful and reliable. Additionally, attention must be paid to tolerance accumulation, as even if individual steps stay within acceptable limits, the combined effect of multiple operations can cause the final result to exceed the allowable tolerance.\n",
        "\n"
      ],
      "metadata": {
        "id": "tezsCgnnLqEm"
      }
    },
    {
      "cell_type": "code",
      "source": [
        "import numpy as np\n",
        "from scipy import optimize\n",
        "\n",
        "f = lambda x: 1/x\n",
        "\n",
        "r, infodict, ier, mesg = optimize.fsolve(f, -2, xtol=.1, full_output=True)\n",
        "print(\"r =\", r)\n",
        "\n",
        "error = f(r)\n",
        "print(\"error value\", error)\n",
        "\n",
        "print(mesg)\n"
      ],
      "metadata": {
        "colab": {
          "base_uri": "https://localhost:8080/"
        },
        "id": "oaDsTW_Yl1lJ",
        "outputId": "cf1e7a6c-56c6-4bb0-a6da-17d1d286b11a"
      },
      "execution_count": 5,
      "outputs": [
        {
          "output_type": "stream",
          "name": "stdout",
          "text": [
            "r = [-3.52047359e+83]\n",
            "error value [-2.84052692e-84]\n",
            "The number of calls to function has reached maxfev = 400.\n"
          ]
        }
      ]
    },
    {
      "cell_type": "markdown",
      "source": [
        "Bisection Method\n",
        "\n"
      ],
      "metadata": {
        "id": "xEl2mbLjlqtm"
      }
    },
    {
      "cell_type": "markdown",
      "source": [
        "The Intermediate Value Theorem states that if a function  is continuous on an interval  have opposite signs , or vice versa, then there exists at least one root in the open interval. The Bisection Method leverages this principle iteratively to approximate roots. It begins by calculating the midpoint. If f(m) is within the specified tolerance, it is declared the root. If not, the interval is narrowed: This process repeats recursively, refining the interval until the midpoint satisfies the tolerance condition. For example, to find the root using the Bisection Method, the algorithm iteratively narrows the interval until a sufficiently accurate approximation of the root is achieved. This method ensures convergence to a root for continuous functions, provided the initial interval contains a sign change."
      ],
      "metadata": {
        "id": "Gp5zXFGqMLBA"
      }
    },
    {
      "cell_type": "code",
      "source": [
        "import numpy as np\n",
        "\n",
        "def my_bisection(f, a, b, tol):\n",
        "\n",
        "    if np.sign(f(a)) == np.sign(f(b)):\n",
        "        raise Exception(\n",
        "         \"No roots between a and b\")\n",
        "\n",
        "    m = (a + b)/2\n",
        "    if np.abs(f(m)) < tol:\n",
        "        return m\n",
        "    elif np.sign(f(a)) == np.sign(f(m)):\n",
        "        return my_bisection(f, m, b, tol)\n",
        "    elif np.sign(f(b)) == np.sign(f(m)):\n",
        "        return my_bisection(f, a, m, tol)\n",
        "\n",
        "\n",
        "f = lambda x: x**2 - 2\n",
        "\n",
        "r1 = my_bisection(f, 0, 2, 0.1)\n",
        "print(\"r1 =\", r1)\n",
        "r01 = my_bisection(f, 0, 2, 0.01)\n",
        "print(\"r01 =\", r01)\n",
        "\n",
        "print(\"f(r1) =\", f(r1))\n",
        "print(\"f(r01) =\", f(r01))"
      ],
      "metadata": {
        "colab": {
          "base_uri": "https://localhost:8080/"
        },
        "id": "5U0B0dMcl1_t",
        "outputId": "d23b5d86-5c74-4b0b-dad7-4452c1f4a573"
      },
      "execution_count": 6,
      "outputs": [
        {
          "output_type": "stream",
          "name": "stdout",
          "text": [
            "r1 = 1.4375\n",
            "r01 = 1.4140625\n",
            "f(r1) = 0.06640625\n",
            "f(r01) = -0.00042724609375\n"
          ]
        }
      ]
    },
    {
      "cell_type": "markdown",
      "source": [
        "Newton-Raphson Method\n",
        "\n"
      ],
      "metadata": {
        "id": "WywFPU3Pl0iP"
      }
    },
    {
      "cell_type": "markdown",
      "source": [
        "The Newton-Raphson Method is an iterative root-finding technique that uses linear approximations to refine guesses until a root is found within a specified tolerance. Starting with an initial guess, the method computes improved approximations using the formula known as a Newton step. This step estimates where the function intersects the x-axis. The process repeats iteratively, with each step producing a better approximation of the root, until the error falls below the desired tolerance. For example, to find the root of Unlike methods like bisection, Newton-Raphson requires the function to be smooth and differentiable but often converges faster when these conditions are met."
      ],
      "metadata": {
        "id": "t42SZ1_1Ui8T"
      }
    },
    {
      "cell_type": "code",
      "source": [
        "import numpy as np\n",
        "\n",
        "f = lambda x: x**2 - 3\n",
        "f_prime = lambda x: 2*x\n",
        "newton_raphson = 1.7 - (f(1.7))/(f_prime(1.7))\n",
        "\n",
        "print(\"newton_raphson =\", newton_raphson)\n",
        "print(\"sqrt(3) =\", np.sqrt(3))"
      ],
      "metadata": {
        "colab": {
          "base_uri": "https://localhost:8080/"
        },
        "id": "7nYdClrUl2bz",
        "outputId": "fb723f24-31a9-4fa9-9a72-fcd2ea03aa2d"
      },
      "execution_count": 7,
      "outputs": [
        {
          "output_type": "stream",
          "name": "stdout",
          "text": [
            "newton_raphson = 1.7323529411764707\n",
            "sqrt(3) = 1.7320508075688772\n"
          ]
        }
      ]
    },
    {
      "cell_type": "code",
      "source": [
        "import numpy as np\n",
        "\n",
        "f = lambda x: x**2 - 2\n",
        "f_prime = lambda x: 2*x\n",
        "newton_raphson = 1.4 - (f(1.4))/(f_prime(1.4))\n",
        "\n",
        "print(\"newton_raphson =\", newton_raphson)\n",
        "print(\"sqrt(2) =\", np.sqrt(2))\n",
        "\n",
        "def my_newton(f, df, x0, tol):\n",
        "    if abs(f(x0)) < tol:\n",
        "        return x0\n",
        "    else:\n",
        "        return my_newton(f, df, x0 - f(x0)/df(x0), tol)\n",
        "\n",
        "estimate = my_newton(f, f_prime, 1.5, 1e-6)\n",
        "print(\"estimate =\", estimate)\n",
        "print(\"sqrt(2) =\", np.sqrt(2))"
      ],
      "metadata": {
        "colab": {
          "base_uri": "https://localhost:8080/"
        },
        "id": "BVFmcA2WU4PH",
        "outputId": "0b7ff9da-1153-404f-e7ca-54f5538667ea"
      },
      "execution_count": 8,
      "outputs": [
        {
          "output_type": "stream",
          "name": "stdout",
          "text": [
            "newton_raphson = 1.4142857142857144\n",
            "sqrt(2) = 1.4142135623730951\n",
            "estimate = 1.4142135623746899\n",
            "sqrt(2) = 1.4142135623730951\n"
          ]
        }
      ]
    },
    {
      "cell_type": "markdown",
      "source": [
        "Root Finding in Python"
      ],
      "metadata": {
        "id": "c3Fe00MUVJc8"
      }
    },
    {
      "cell_type": "markdown",
      "source": [
        "Function built into Python to find roots."
      ],
      "metadata": {
        "id": "ZrOvJ-qHVLaX"
      }
    },
    {
      "cell_type": "code",
      "source": [
        "from scipy.optimize import fsolve\n",
        "\n",
        "f = lambda x: 2*(x**2)+4*x-6\n",
        "\n",
        "fsolve(f, [-2,5])"
      ],
      "metadata": {
        "colab": {
          "base_uri": "https://localhost:8080/"
        },
        "id": "AQQ0w6DjVUea",
        "outputId": "0ecc6d29-fc64-4240-ee31-153703a3e44c"
      },
      "execution_count": 9,
      "outputs": [
        {
          "output_type": "execute_result",
          "data": {
            "text/plain": [
              "array([-3.,  1.])"
            ]
          },
          "metadata": {},
          "execution_count": 9
        }
      ]
    }
  ]
}